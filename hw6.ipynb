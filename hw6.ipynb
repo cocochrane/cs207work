{
 "cells": [
  {
   "cell_type": "markdown",
   "metadata": {
    "collapsed": true
   },
   "source": [
    "## Q1.\n",
    "\n",
    "Add a __setitem__ to the python linked list implementation from the lecture (this past wednesday)."
   ]
  },
  {
   "cell_type": "code",
   "execution_count": 4,
   "metadata": {
    "collapsed": false
   },
   "outputs": [],
   "source": [
    "from doctest import run_docstring_examples as dtest\n",
    "import numbers\n",
    "import reprlib\n",
    "class LL:\n",
    "    \"\"\"\n",
    "    >>> A = LL()  \n",
    "    >>> A[0]\n",
    "    Traceback (most recent call last):\n",
    "        ...\n",
    "    IndexError: trying to index an empty LL\n",
    "    >>> A.insert_front(1)\n",
    "    >>> A[0]\n",
    "    1\n",
    "    >>> A.insert_back(2)\n",
    "    >>> A[1]\n",
    "    2\n",
    "    >>> A\n",
    "    LL([1,...])\n",
    "    >>A[1]\n",
    "    >>> myll = LL.from_components([1,2])\n",
    "    >>> myll[1]\n",
    "    1\n",
    "    >>> len(myll)\n",
    "    2\n",
    "    >>> myll[2]\n",
    "    Traceback (most recent call last):\n",
    "        ...\n",
    "    IndexError: LL index out of range\n",
    "    >>> myll[0:1]\n",
    "    Traceback (most recent call last):\n",
    "        ...\n",
    "    TypeError: LL indices must be integers\n",
    "    >> myll=LL.from_components([1,2,32,-4,5])\n",
    "    >> myll[1] = 3\n",
    "    >> myll[1]\n",
    "    3\n",
    "    \"\"\"\n",
    "    @classmethod\n",
    "    def from_components(cls, components):\n",
    "        inst = cls(components[0])\n",
    "        for c in components[1:]:\n",
    "            inst.insert_front(c)\n",
    "        return inst\n",
    "        \n",
    "    def __init__(self, head=None):\n",
    "        if head is None:\n",
    "            self._headNode = None\n",
    "        else:\n",
    "            self._headNode = [head, None]\n",
    "            \n",
    "    def insert_front(self, element):\n",
    "        new_node = [element, None]\n",
    "        new_node[1] = self._headNode\n",
    "        self._headNode = new_node\n",
    "        \n",
    "    def insert_back(self, element):\n",
    "        new_node = [element, None]\n",
    "        curr_ptr = self._headNode\n",
    "        while curr_ptr[1] is not None:\n",
    "            curr_ptr = curr_ptr[1]\n",
    "        curr_ptr[1]= new_node\n",
    "        \n",
    "    def __repr__(self):\n",
    "        class_name = type(self).__name__\n",
    "        if len(self)==0:\n",
    "            components=\"\"\n",
    "        else:\n",
    "            components = reprlib.repr(self[0])\n",
    "        return '{}([{},...])'.format(class_name,components)\n",
    "\n",
    "\n",
    "    def __len__(self):\n",
    "        curr_ptr = self._headNode\n",
    "        count = 0\n",
    "        if curr_ptr==None:\n",
    "            return 0\n",
    "        while 1:\n",
    "            count = count + 1\n",
    "            if curr_ptr[1] is None:\n",
    "                break\n",
    "            curr_ptr = curr_ptr[1]\n",
    "        return count    \n",
    "    \n",
    "    def __getitem__(self, index):\n",
    "        class_name = type(self).__name__\n",
    "        if isinstance(index, numbers.Integral): \n",
    "            curr_ptr = self._headNode\n",
    "            if curr_ptr==None:\n",
    "                msg = 'trying to index an empty {class_name}' \n",
    "                raise IndexError(msg.format(class_name=class_name))\n",
    "            next_ptr = self._headNode[1]\n",
    "            count = 0\n",
    "            while 1:\n",
    "                if index == count:\n",
    "                    return curr_ptr[0]\n",
    "                if curr_ptr[1] is None:\n",
    "                    msg = '{class_name} index out of range' \n",
    "                    raise IndexError(msg.format(class_name=class_name))       \n",
    "                count += 1\n",
    "                curr_ptr = curr_ptr[1]\n",
    "        else:\n",
    "            msg = '{class_name} indices must be integers' \n",
    "            raise TypeError(msg.format(class_name=class_name))\n",
    "            \n",
    "    def __setitem__(self,index,value):\n",
    "        class_name = type(self).__name__\n",
    "        if isinstance(index, numbers.Integral): \n",
    "            curr_ptr = self._headNode\n",
    "            if curr_ptr==None:\n",
    "                msg = 'trying to index an empty {class_name}' \n",
    "                raise IndexError(msg.format(class_name=class_name))\n",
    "            next_ptr = self._headNode[1]\n",
    "            count = 0\n",
    "            while 1:\n",
    "                if index == count:\n",
    "                    curr_ptr[0] = value\n",
    "                    return\n",
    "                if curr_ptr[1] is None:\n",
    "                    msg = '{class_name} index out of range' \n",
    "                    raise IndexError(msg.format(class_name=class_name))       \n",
    "                count += 1\n",
    "                curr_ptr = curr_ptr[1]\n",
    "        else:\n",
    "            msg = '{class_name} indices must be integers' \n",
    "            raise TypeError(msg.format(class_name=class_name))\n",
    "        "
   ]
  },
  {
   "cell_type": "code",
   "execution_count": 3,
   "metadata": {
    "collapsed": false
   },
   "outputs": [
    {
     "data": {
      "text/plain": [
       "3"
      ]
     },
     "execution_count": 3,
     "metadata": {},
     "output_type": "execute_result"
    }
   ],
   "source": [
    "myll=LL.from_components([1,2,32,-4,5])\n",
    "myll[1] = 3\n",
    "myll[1]"
   ]
  },
  {
   "cell_type": "markdown",
   "metadata": {},
   "source": [
    "## Q2.\n",
    "\n",
    "An online mean and standard deviation algorithm.\n",
    "\n",
    "Below is a function to generate a potentially infinite stream of 1-D data."
   ]
  },
  {
   "cell_type": "code",
   "execution_count": 3,
   "metadata": {
    "collapsed": false
   },
   "outputs": [],
   "source": [
    "from random import normalvariate, random\n",
    "from itertools import count\n",
    "def make_data(m, stop=None):\n",
    "    for _ in count():\n",
    "        if stop and _ > stop:\n",
    "            break\n",
    "        yield 1.0e09 + normalvariate(0, m*random() )\n",
    "        "
   ]
  },
  {
   "cell_type": "markdown",
   "metadata": {},
   "source": [
    "Here is an implementation of an online mean algorithm..see http://www.johndcook.com/blog/standard_deviation/ and the link to http://www.johndcook.com/blog/2008/09/26/comparing-three-methods-of-computing-standard-deviation/ in-between. (Convince yourselves of the formulas...)"
   ]
  },
  {
   "cell_type": "code",
   "execution_count": 4,
   "metadata": {
    "collapsed": true
   },
   "outputs": [],
   "source": [
    "def online_mean(iterator):\n",
    "    n = 0\n",
    "    mu = 0\n",
    "    for value in iterator:\n",
    "        n += 1\n",
    "        delta = value - mu\n",
    "        mu = mu + delta/n\n",
    "        yield mu"
   ]
  },
  {
   "cell_type": "markdown",
   "metadata": {},
   "source": [
    "We use out generator functions to implement iterators:"
   ]
  },
  {
   "cell_type": "code",
   "execution_count": 5,
   "metadata": {
    "collapsed": false
   },
   "outputs": [
    {
     "data": {
      "text/plain": [
       "[1000000000.5726207,\n",
       " 1000000000.7905293,\n",
       " 999999998.9083393,\n",
       " 999999999.9491584,\n",
       " 1000000000.9843019,\n",
       " 1000000000.6544363,\n",
       " 1000000002.2933607,\n",
       " 999999996.1704673,\n",
       " 999999995.4827662,\n",
       " 999999992.8637606,\n",
       " 999999996.845527]"
      ]
     },
     "execution_count": 5,
     "metadata": {},
     "output_type": "execute_result"
    }
   ],
   "source": [
    "g = make_data(5, 10)\n",
    "list(g)"
   ]
  },
  {
   "cell_type": "code",
   "execution_count": 6,
   "metadata": {
    "collapsed": false
   },
   "outputs": [
    {
     "name": "stdout",
     "output_type": "stream",
     "text": [
      "<class 'generator'>\n"
     ]
    },
    {
     "data": {
      "text/plain": [
       "[999999997.1737084,\n",
       " 999999998.2650601,\n",
       " 999999998.9083188,\n",
       " 999999999.5749443,\n",
       " 999999999.2464958,\n",
       " 999999998.8434209,\n",
       " 999999998.7148865,\n",
       " 999999998.7141579,\n",
       " 999999998.4764946,\n",
       " 999999998.7349033,\n",
       " 999999999.0089974,\n",
       " 999999999.1389815,\n",
       " 999999999.2151439,\n",
       " 999999999.4961323,\n",
       " 999999999.3727714,\n",
       " 999999999.3617709,\n",
       " 999999999.3201337,\n",
       " 999999999.1976421,\n",
       " 999999999.2330656,\n",
       " 999999999.2575953,\n",
       " 999999999.0236516,\n",
       " 999999999.20031,\n",
       " 999999999.2878282,\n",
       " 999999999.318994,\n",
       " 999999999.1482626,\n",
       " 999999999.1060247,\n",
       " 999999999.1120651,\n",
       " 999999998.8050014,\n",
       " 999999998.9996455,\n",
       " 999999999.1688473,\n",
       " 999999999.3833268,\n",
       " 999999999.6487422,\n",
       " 999999999.6664206,\n",
       " 999999999.8002552,\n",
       " 999999999.6240191,\n",
       " 999999999.6318022,\n",
       " 999999999.6371306,\n",
       " 999999999.6583174,\n",
       " 999999999.6493378,\n",
       " 999999999.658346,\n",
       " 999999999.7716589,\n",
       " 999999999.7564293,\n",
       " 999999999.7511503,\n",
       " 999999999.8440738,\n",
       " 999999999.8594022,\n",
       " 999999999.9633307,\n",
       " 999999999.9103993,\n",
       " 999999999.9309318,\n",
       " 999999999.8788726,\n",
       " 999999999.9216163,\n",
       " 999999999.91586,\n",
       " 1000000000.0151193,\n",
       " 999999999.9967297,\n",
       " 999999999.8351133,\n",
       " 999999999.8769413,\n",
       " 999999999.8765525,\n",
       " 999999999.6953895,\n",
       " 999999999.63283,\n",
       " 999999999.6099209,\n",
       " 999999999.6575031,\n",
       " 999999999.5775678,\n",
       " 999999999.5874699,\n",
       " 999999999.5918468,\n",
       " 999999999.7021768,\n",
       " 999999999.7290841,\n",
       " 999999999.7201893,\n",
       " 999999999.7176043,\n",
       " 999999999.842736,\n",
       " 999999999.8384273,\n",
       " 999999999.8171916,\n",
       " 999999999.8298229,\n",
       " 999999999.8439506,\n",
       " 999999999.875557,\n",
       " 999999999.8959986,\n",
       " 999999999.9363899,\n",
       " 999999999.9197791,\n",
       " 999999999.9378802,\n",
       " 999999999.9493783,\n",
       " 999999999.9002194,\n",
       " 999999999.9018819,\n",
       " 999999999.9329841,\n",
       " 999999999.9140741,\n",
       " 999999999.9174776,\n",
       " 999999999.9505852,\n",
       " 999999999.9601218,\n",
       " 1000000000.0290776,\n",
       " 1000000000.0549757,\n",
       " 1000000000.0364132,\n",
       " 1000000000.0091895,\n",
       " 1000000000.0383656,\n",
       " 1000000000.0340624,\n",
       " 1000000000.0413523,\n",
       " 1000000000.0156306,\n",
       " 1000000000.0215386,\n",
       " 1000000000.0135089,\n",
       " 999999999.9709316,\n",
       " 999999999.9233291,\n",
       " 999999999.9248482,\n",
       " 999999999.9318222,\n",
       " 999999999.951121,\n",
       " 999999999.9508264]"
      ]
     },
     "execution_count": 6,
     "metadata": {},
     "output_type": "execute_result"
    }
   ],
   "source": [
    "g = online_mean(make_data(5, 100))\n",
    "print(type(g))\n",
    "list(g)"
   ]
  },
  {
   "cell_type": "markdown",
   "metadata": {},
   "source": [
    "### 2.1\n",
    "\n",
    "Implement the standard deviation algorithm as a generator function as\n",
    "\n",
    "```python\n",
    "def online_mean_dev(iterator):\n",
    "    BLA BLA\n",
    "    if n > 1:\n",
    "        stddev = math.sqrt(dev_accum/(n-1))\n",
    "        yield (n, value, mu, stddev)\n",
    "```"
   ]
  },
  {
   "cell_type": "code",
   "execution_count": 7,
   "metadata": {
    "collapsed": false
   },
   "outputs": [],
   "source": [
    "import math\n",
    "#s^2 = frac{1}{n-1}sum_{i=1}^n (x_i -bar{x})^2\n",
    "\n",
    "def online_mean_dev(iterator):\n",
    "    n = 0\n",
    "    mu = 0\n",
    "    dev_accum = 0\n",
    "    for value in iterator:\n",
    "        n+= 1\n",
    "        delta = value - mu\n",
    "        mu += delta/n\n",
    "        dev_accum += (value-mu)**2\n",
    "        \n",
    "        if n > 1:\n",
    "            stddev = math.sqrt(dev_accum/(n-1))\n",
    "            yield (n, value, mu, stddev)"
   ]
  },
  {
   "cell_type": "markdown",
   "metadata": {},
   "source": [
    "Here we make 100000 element data, and run this iterator on it (imagine running this on a time-series being slowly read from disk"
   ]
  },
  {
   "cell_type": "code",
   "execution_count": 9,
   "metadata": {
    "collapsed": false
   },
   "outputs": [],
   "source": [
    "data_with_stats = online_mean_dev(make_data(5, 100000))"
   ]
  },
  {
   "cell_type": "markdown",
   "metadata": {},
   "source": [
    "## Q3.\n",
    "\n",
    "Let's do Anomaly detection. Write a routine `is_ok`:\n",
    "\n",
    "```python\n",
    "def is_ok(level, t)\n",
    "```\n",
    "\n",
    "which takes a tuple like the one yielded by your code above and returns True if the value is inbetween `level`-$\\sigma$ of the mean."
   ]
  },
  {
   "cell_type": "code",
   "execution_count": 10,
   "metadata": {
    "collapsed": false
   },
   "outputs": [],
   "source": [
    "def is_ok(level,t):\n",
    "    if t[1] >= t[2]-(level*t[3]) and t[1] <= t[2]+(level*t[3]):\n",
    "        return True\n",
    "    return False\n"
   ]
  },
  {
   "cell_type": "markdown",
   "metadata": {},
   "source": [
    "We use this function to create a predicate passed through to `itertools.filterfalse` which is then used to obtain an iterator on the anomalies."
   ]
  },
  {
   "cell_type": "code",
   "execution_count": 11,
   "metadata": {
    "collapsed": false
   },
   "outputs": [],
   "source": [
    "from itertools import filterfalse\n",
    "pred = lambda t: is_ok(5, t)\n",
    "anomalies = filterfalse(pred, data_with_stats)"
   ]
  },
  {
   "cell_type": "markdown",
   "metadata": {},
   "source": [
    "We materialize the anomalies..."
   ]
  },
  {
   "cell_type": "code",
   "execution_count": 12,
   "metadata": {
    "collapsed": false
   },
   "outputs": [
    {
     "data": {
      "text/plain": [
       "[(2466, 1000000015.7236999, 1000000000.1235819, 2.9085424884097733),\n",
       " (3446, 1000000015.7461717, 1000000000.1205176, 2.938722365975286),\n",
       " (13656, 999999983.7193971, 1000000000.0300403, 2.8668288813486007),\n",
       " (21915, 999999985.3177654, 1000000000.0150483, 2.8678915343336104),\n",
       " (22083, 1000000014.3867842, 1000000000.016557, 2.8715476284250885),\n",
       " (23634, 999999985.147148, 1000000000.0164644, 2.87642873606638),\n",
       " (26872, 999999985.3494458, 1000000000.0109396, 2.874541399197035),\n",
       " (27160, 1000000015.2685776, 1000000000.0130672, 2.8743572511480666),\n",
       " (27391, 999999985.2420019, 1000000000.0134634, 2.8762400414765867),\n",
       " (29486, 1000000015.4329287, 1000000000.0178001, 2.87431359270787),\n",
       " (30065, 999999985.3640709, 1000000000.0138702, 2.874497177921442),\n",
       " (34827, 999999985.3835293, 1000000000.0166641, 2.872030167937999),\n",
       " (35975, 999999985.579996, 1000000000.017993, 2.871147418802628),\n",
       " (42266, 1000000015.0054499, 1000000000.0168011, 2.8745093316946253),\n",
       " (50641, 1000000015.4640644, 1000000000.023309, 2.873126552804314),\n",
       " (51368, 999999984.4997969, 1000000000.022153, 2.8747851292167854),\n",
       " (52637, 999999985.377839, 1000000000.0217518, 2.873510904358993),\n",
       " (53888, 999999984.899092, 1000000000.0229467, 2.8722621203892125),\n",
       " (57926, 1000000015.6146436, 1000000000.025957, 2.8731297239332365),\n",
       " (59633, 999999983.3559098, 1000000000.025051, 2.8741130026571127),\n",
       " (60412, 999999984.5603, 1000000000.0243596, 2.8759204406973646),\n",
       " (65640, 999999985.0712763, 1000000000.0275856, 2.8787097413193043),\n",
       " (70680, 1000000016.5652666, 1000000000.0231674, 2.8830016788703805),\n",
       " (76093, 1000000016.2784818, 1000000000.0194042, 2.88459134671524),\n",
       " (78381, 1000000017.0074736, 1000000000.0214663, 2.8868225635975917),\n",
       " (79300, 1000000015.05457, 1000000000.022353, 2.886609152132035),\n",
       " (86125, 1000000015.133555, 1000000000.0190693, 2.888133891472685),\n",
       " (88923, 1000000016.1888784, 1000000000.0159639, 2.8877058278252217),\n",
       " (90379, 999999984.886029, 1000000000.015497, 2.886289065832751),\n",
       " (97090, 999999985.5294429, 1000000000.0151609, 2.886433133735082),\n",
       " (97453, 999999984.9677085, 1000000000.0140582, 2.8869410986721658),\n",
       " (98852, 999999983.6493089, 1000000000.0118449, 2.8848517633180184)]"
      ]
     },
     "execution_count": 12,
     "metadata": {},
     "output_type": "execute_result"
    }
   ],
   "source": [
    "list(anomalies)#materialize"
   ]
  },
  {
   "cell_type": "markdown",
   "metadata": {},
   "source": [
    "## To think of, but not hand in\n",
    "\n",
    "What kinds of anomalies will this algorithm pick up? What kinds would a shorter \"window\" of anomaly detection, like 100 points around the time in question pick? How might you create an algorithm which does window based averaging? (hint: the window size is small compared to the time series size). \n",
    "\n",
    "Finally think a bit of how you might implement all of this in a production environment..remember that data streaming in might get backed up when you handle an anomaly.\n",
    "\n",
    "(Some inspiration might accrue if you look at the docs for `collections.deque`)."
   ]
  }
 ],
 "metadata": {
  "anaconda-cloud": {},
  "kernelspec": {
   "display_name": "Python [py35]",
   "language": "python",
   "name": "Python [py35]"
  },
  "language_info": {
   "codemirror_mode": {
    "name": "ipython",
    "version": 3
   },
   "file_extension": ".py",
   "mimetype": "text/x-python",
   "name": "python",
   "nbconvert_exporter": "python",
   "pygments_lexer": "ipython3",
   "version": "3.5.2"
  }
 },
 "nbformat": 4,
 "nbformat_minor": 0
}
